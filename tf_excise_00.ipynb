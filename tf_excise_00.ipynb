{
 "cells": [
  {
   "cell_type": "markdown",
   "metadata": {
    "collapsed": true
   },
   "source": [
    "### Mnist 학습 예제로 Tensorflow 연습\n",
    "(작성) by funmv"
   ]
  },
  {
   "cell_type": "code",
   "execution_count": 1,
   "metadata": {
    "collapsed": true
   },
   "outputs": [],
   "source": [
    "# -*- coding: utf-8 -*-\n",
    "%matplotlib inline\n",
    "import numpy as np\n",
    "import tensorflow as tf\n",
    "import matplotlib.pyplot as plt\n",
    "from tensorflow.examples.tutorials.mnist import input_data"
   ]
  },
  {
   "cell_type": "markdown",
   "metadata": {},
   "source": [
    "mnist 데이터셋은 tf 내부에 테스트 샘플로 미리 준비되어 있어 가져와 사용하면 됨"
   ]
  },
  {
   "cell_type": "code",
   "execution_count": 2,
   "metadata": {
    "collapsed": false
   },
   "outputs": [
    {
     "name": "stdout",
     "output_type": "stream",
     "text": [
      "Extracting data/train-images-idx3-ubyte.gz\n",
      "Extracting data/train-labels-idx1-ubyte.gz\n",
      "Extracting data/t10k-images-idx3-ubyte.gz\n",
      "Extracting data/t10k-labels-idx1-ubyte.gz\n"
     ]
    }
   ],
   "source": [
    "mnist     = input_data.read_data_sets('data', one_hot=True)    #label은 one-hot벡터로 취함\n",
    "X_train   = mnist.train.images\n",
    "Y_train   = mnist.train.labels\n",
    "X_test    = mnist.test.images\n",
    "Y_test    = mnist.test.labels\n"
   ]
  },
  {
   "cell_type": "markdown",
   "metadata": {},
   "source": [
    "### 입력된 mnist 데이터의 tensor 크기를 출력해 본다. \n",
    "데이터는 학습용과 검증용 2가지 종류이다.   \n",
    "학습용은 28x28=784 pixels 크기의 흑백 영상이 55,000개이다.   \n",
    "검증용은 10,000개이며, label은 10개부류를 가진다.   "
   ]
  },
  {
   "cell_type": "code",
   "execution_count": 3,
   "metadata": {
    "collapsed": false
   },
   "outputs": [
    {
     "name": "stdout",
     "output_type": "stream",
     "text": [
      "Shape of (X_train, X_test, Y_train, Y_test)\n",
      "((55000, 784), (10000, 784), (55000, 10), (10000, 10))\n"
     ]
    }
   ],
   "source": [
    "dimX = X_train.shape[1]\n",
    "dimY = Y_train.shape[1]\n",
    "nTrain = X_train.shape[0]\n",
    "nTest = X_test.shape[0]\n",
    "print (\"Shape of (X_train, X_test, Y_train, Y_test)\")\n",
    "print (X_train.shape, X_test.shape, Y_train.shape, Y_test.shape)\n"
   ]
  },
  {
   "cell_type": "markdown",
   "metadata": {},
   "source": [
    "어떤 하나의 샘플에 대해 인덱스로 접근해서 영상 및 크기 출력 해봄  "
   ]
  },
  {
   "cell_type": "code",
   "execution_count": 4,
   "metadata": {
    "collapsed": false
   },
   "outputs": [
    {
     "data": {
      "image/png": "[encoded data removed]",
      "text/plain": [
       "<matplotlib.figure.Figure at 0x11b928310>"
      ]
     },
     "metadata": {},
     "output_type": "display_data"
    }
   ],
   "source": [
    "myIdx = 36436   # any number\n",
    "img   = np.reshape(X_train[myIdx, :], (28, 28)) # 28 * 28 = 784\n",
    "\n",
    "plt.matshow(img, cmap=plt.get_cmap('gray'))\n",
    "plt.show()"
   ]
  },
  {
   "cell_type": "code",
   "execution_count": 5,
   "metadata": {
    "collapsed": false
   },
   "outputs": [
    {
     "name": "stdout",
     "output_type": "stream",
     "text": [
      "(55000, 784) (55000, 10) 784 10\n"
     ]
    }
   ],
   "source": [
    "print X_train.shape, Y_train.shape, dimX, dimY"
   ]
  },
  {
   "cell_type": "markdown",
   "metadata": {},
   "source": [
    "### 학습을 위한 최소한의 구조를 만들어 본다.\n",
    "(1) 먼저 학습 샘플을 저장할 placeholder를 만든다  \n",
    "(2) 학습 변수를 저장할 W, b를 선언한다  \n",
    "(3) get_shape()으로 크기를 출력해 본다  "
   ]
  },
  {
   "cell_type": "code",
   "execution_count": 6,
   "metadata": {
    "collapsed": false
   },
   "outputs": [
    {
     "name": "stdout",
     "output_type": "stream",
     "text": [
      "(?, 784) (?, 10) (784, 10) (10,)\n"
     ]
    }
   ],
   "source": [
    "X = tf.placeholder(tf.float32,[None,784],name='input')\n",
    "Y = tf.placeholder(tf.float32,[None,10],name='label')\n",
    "W = tf.Variable(tf.zeros([784,10]), name='weight')\n",
    "b = tf.Variable(tf.zeros([10]), name='bias')\n",
    "print X.get_shape(), Y.get_shape(), W.get_shape(), b.get_shape()"
   ]
  },
  {
   "cell_type": "markdown",
   "metadata": {},
   "source": [
    "변수들을 곱해주는 graph의 노드를 생성한다"
   ]
  },
  {
   "cell_type": "code",
   "execution_count": 7,
   "metadata": {
    "collapsed": false
   },
   "outputs": [
    {
     "name": "stdout",
     "output_type": "stream",
     "text": [
      "(?, 10)\n"
     ]
    }
   ],
   "source": [
    "ss = tf.matmul(X,W)\n",
    "y_pred = tf.nn.softmax(tf.add( tf.matmul(X,W) , b))\n",
    "print y_pred.get_shape()"
   ]
  },
  {
   "cell_type": "markdown",
   "metadata": {},
   "source": [
    "### 학습 샘플은 작은 규모의 batch로 나누어져 입력하기 때문에 loss계산에 평균을 적용한다\n",
    "먼저 xentropy loss함수를 구성한다  \n",
    "각 샘플의 label과 log(predict) 두 값을 곱한 결과를 sum한 후, 모든 샘플에 대해 평균한다.  \n",
    "reduction_indices=1 is along label axis. Usually in matrix, 0(row), 1(col)"
   ]
  },
  {
   "cell_type": "code",
   "execution_count": 8,
   "metadata": {
    "collapsed": false
   },
   "outputs": [],
   "source": [
    "loss = tf.reduce_mean(-tf.reduce_sum(Y*tf.log(y_pred), reduction_indices=1))"
   ]
  },
  {
   "cell_type": "markdown",
   "metadata": {},
   "source": [
    "loss에 대한 gradient를 정의한다. 최적화 인자값을 설정한다. "
   ]
  },
  {
   "cell_type": "code",
   "execution_count": 9,
   "metadata": {
    "collapsed": true
   },
   "outputs": [],
   "source": [
    "learning_rate = 0.005\n",
    "optimizer = tf.train.GradientDescentOptimizer(learning_rate).minimize(loss)\n",
    "training_epoch = 20\n",
    "batch_size = 100\n",
    "display_epoch = 2"
   ]
  },
  {
   "cell_type": "markdown",
   "metadata": {},
   "source": [
    "tf.argmax와 tf.equal함수를 같이 사용하면 출력값 평가를 간단하게 할 수 있다.  \n",
    "label Y(one-hot)의 최대값과 prediction y_pred의 최대값의 위치가 같은지 체크한다.  "
   ]
  },
  {
   "cell_type": "code",
   "execution_count": 10,
   "metadata": {
    "collapsed": true
   },
   "outputs": [],
   "source": [
    "correct_pred = tf.equal(tf.argmax(Y,1),tf.argmax(y_pred,1))"
   ]
  },
  {
   "cell_type": "markdown",
   "metadata": {},
   "source": [
    "테스트된 모든 샘플들에 대해 correct_pred 값을 평균하여 accuracy값을 계산한다. "
   ]
  },
  {
   "cell_type": "code",
   "execution_count": 11,
   "metadata": {
    "collapsed": true
   },
   "outputs": [],
   "source": [
    "accuracy = tf.reduce_mean(tf.cast(correct_pred,'float32'))"
   ]
  },
  {
   "cell_type": "markdown",
   "metadata": {},
   "source": [
    "### 연산을 위해 Session을 시작한다. 먼저 모든 변수를 초기화하고, 20번의 epoch를 실행한다\n",
    "batch 샘플의 수를 100개로 했고 이에 따라 전체 batch 덩어리의 수가 결정된다(nBatch)  \n",
    "사용할 batch 샘플의 index는 매 epoch마다 랜덤하게 결정된다.  \n",
    "선택된 batch 샘플들은 feed_dict를 통해 넘겨준다.   "
   ]
  },
  {
   "cell_type": "code",
   "execution_count": 12,
   "metadata": {
    "collapsed": false
   },
   "outputs": [
    {
     "name": "stdout",
     "output_type": "stream",
     "text": [
      "[epoch]  1\n",
      "loss = 0.770376\n",
      "accu_train =  0.842873\n",
      "accu_test =  0.8526\n",
      "[epoch]  3\n",
      "loss = 0.592289\n",
      "accu_train =  0.862582\n",
      "accu_test =  0.8739\n",
      "[epoch]  5\n",
      "loss = 0.520068\n",
      "accu_train =  0.872309\n",
      "accu_test =  0.8824\n",
      "[epoch]  7\n",
      "loss = 0.47925\n",
      "accu_train =  0.878618\n",
      "accu_test =  0.8868\n",
      "[epoch]  9\n",
      "loss = 0.452221\n",
      "accu_train =  0.883273\n",
      "accu_test =  0.8911\n",
      "[epoch]  11\n",
      "loss = 0.432752\n",
      "accu_train =  0.886618\n",
      "accu_test =  0.895\n",
      "[epoch]  13\n",
      "loss = 0.417795\n",
      "accu_train =  0.889364\n",
      "accu_test =  0.8983\n",
      "[epoch]  15\n",
      "loss = 0.405923\n",
      "accu_train =  0.892164\n",
      "accu_test =  0.9001\n",
      "[epoch]  17\n",
      "loss = 0.396094\n",
      "accu_train =  0.893982\n",
      "accu_test =  0.9008\n",
      "[epoch]  19\n",
      "loss = 0.387888\n",
      "accu_train =  0.895455\n",
      "accu_test =  0.9023\n"
     ]
    }
   ],
   "source": [
    "with tf.Session() as sess:\n",
    "    sess.run(tf.initialize_all_variables())\n",
    "    \n",
    "    for epoch in range(training_epoch):\n",
    "        nBatch = int(X_train.shape[0]/batch_size)\n",
    "        batch_index = np.random.permutation(X_train.shape[0]) #55,000/100=550(batch 덩어리 수)\n",
    "        for ii in range(nBatch):                              #1 epoch는 모든 sample data를 거쳐야 끝남\n",
    "            x = X_train[batch_index[ii*batch_size:(ii+1)*batch_size],:]\n",
    "            y = Y_train[batch_index[ii*batch_size:(ii+1)*batch_size],:]\n",
    "            sess.run(optimizer, feed_dict = {X:x, Y:y})\n",
    "            \n",
    "        if (epoch+1)%display_epoch == 0:                      #2 epoch마다 1회씩 결과를 출력\n",
    "            print '[epoch] ',epoch\n",
    "            print 'loss =', loss.eval({X:X_train, Y:Y_train}) #loss.eval(입력):입력에 대해 loss계산\n",
    "            print 'accu_train = ', accuracy.eval({X:X_train, Y: Y_train})\n",
    "            print 'accu_test = ', accuracy.eval({X:X_test, Y: Y_test})\n",
    "        \n",
    "        #print sess.run(loss)"
   ]
  }
 ],
 "metadata": {
  "kernelspec": {
   "display_name": "Python 2",
   "language": "python",
   "name": "python2"
  },
  "language_info": {
   "codemirror_mode": {
    "name": "ipython",
    "version": 2
   },
   "file_extension": ".py",
   "mimetype": "text/x-python",
   "name": "python",
   "nbconvert_exporter": "python",
   "pygments_lexer": "ipython2",
   "version": "2.7.12"
  }
 },
 "nbformat": 4,
 "nbformat_minor": 0
}
