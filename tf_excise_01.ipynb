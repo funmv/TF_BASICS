{
 "cells": [
  {
   "cell_type": "markdown",
   "metadata": {},
   "source": [
    "# CNN 레이어 정의 예제"
   ]
  },
  {
   "cell_type": "code",
   "execution_count": null,
   "metadata": {
    "collapsed": true
   },
   "outputs": [],
   "source": [
    "import tensorflow as tf\n",
    "import cv2"
   ]
  },
  {
   "cell_type": "markdown",
   "metadata": {},
   "source": [
    "## 사용자 정의 Layer functions \n",
    "### net의 weights 함수를 간략히 정의하기 위한 함수"
   ]
  },
  {
   "cell_type": "code",
   "execution_count": 5,
   "metadata": {
    "collapsed": true
   },
   "outputs": [],
   "source": [
    "def weight_variable(shape):\n",
    "    initial = tf.truncated_normal(shape, stddev=0.1)   #weight를 정규분포로 초기화\n",
    "    return tf.Variable(initial)"
   ]
  },
  {
   "cell_type": "markdown",
   "metadata": {},
   "source": [
    "### net의 bias 변수을 간략히 정의하기 위한 함수 "
   ]
  },
  {
   "cell_type": "code",
   "execution_count": 6,
   "metadata": {
    "collapsed": true
   },
   "outputs": [],
   "source": [
    "def bias_variable(shape):\n",
    "    initial = tf.constant(0.1, shape=shape)\n",
    "    return tf.Variable(initial)"
   ]
  },
  {
   "cell_type": "markdown",
   "metadata": {},
   "source": [
    "### conv2d를 간략히 구성하는 함수\n",
    "#### 입력 x=[batch, h, w, ch]"
   ]
  },
  {
   "cell_type": "code",
   "execution_count": 42,
   "metadata": {
    "collapsed": true
   },
   "outputs": [],
   "source": [
    "def conv2d(x, W, stride=(1,1), padding='SAME'):\n",
    "    return tf.nn.conv2d(x, W, strides=[1, stride[0], stride[1], 1], padding=padding)"
   ]
  },
  {
   "cell_type": "markdown",
   "metadata": {},
   "source": [
    "### max pooling을 구성하는 함수이다"
   ]
  },
  {
   "cell_type": "code",
   "execution_count": 43,
   "metadata": {
    "collapsed": true
   },
   "outputs": [],
   "source": [
    "def max_pool(x, ksize = (2,2), stride=(2,2), padding='SAME'):\n",
    "    return tf.nn.max_pool(x, ksize=[1,ksize[0],ksize[1],1], strides=[1,stride[0], stride[1],1], padding=padding)"
   ]
  },
  {
   "cell_type": "markdown",
   "metadata": {},
   "source": [
    "## Example of building layers\n",
    "## 상기한 함수들을 호출해서 ConvNet을 구성해 본다\n",
    "### 흑백이미지 입력을 가지며, 3개의 conv 층을 가진다"
   ]
  },
  {
   "cell_type": "code",
   "execution_count": 47,
   "metadata": {
    "collapsed": true
   },
   "outputs": [],
   "source": [
    "def  convolutional_layer(h=None, w=None):\n",
    "    \n",
    "    x = tf.placeholder(tf.float32, [None, h, w])\n",
    "    \n",
    "    #first layer\n",
    "    W_conv1 = weight_variable([5,5,1,48])     #[row,col,dims,maps]\n",
    "    b_conv1 = bias_variable([48])             #[maps]\n",
    "    x_expanded = tf.expand_dims(x, 3)         #[row,col] -> [row,col,dims(=1)]\n",
    "    h_conv1 = tf.nn.relu( conv2d(x_expanded, W_conv1) + b_conv1 )\n",
    "    h_pool1 = max_pool(h_conv1)\n",
    "    print h_pool1.get_shape()\n",
    "    \n",
    "    #second layer\n",
    "    W_conv2 = weight_variable([5,5,48,64])\n",
    "    b_conv2 = bias_variable([64])\n",
    "    h_conv2 = tf.nn.relu( conv2d(h_pool1, W_conv2) + b_conv2 )\n",
    "    h_pool2 = max_pool(h_conv2)\n",
    "    print h_pool2.get_shape()\n",
    "    \n",
    "    #third layer\n",
    "    W_conv3 = weight_variable([5,5,64,128])\n",
    "    b_conv3 = bias_variable([128])\n",
    "    h_conv3 = tf.nn.relu( conv2d(h_pool2, W_conv3) + b_conv3 )\n",
    "    h_pool3 = max_pool(h_conv3)\n",
    "    print h_pool3.get_shape()\n",
    "    \n",
    "    return x, h_pool3, [W_conv1, b_conv1, W_conv2, b_conv2, W_conv3, b_conv3]"
   ]
  },
  {
   "cell_type": "markdown",
   "metadata": {},
   "source": [
    "## Test for example layer\n",
    "## 위에서 만든 ConvNet을 호출하여 테스트 해본다\n",
    "## 내부에 get_shape()함수가 있으므로 크기를 모두 출력해서 net구성을 살펴본다\n",
    "#### If we define size (h,w) of x, then (?,h,w,dims) form is shown"
   ]
  },
  {
   "cell_type": "code",
   "execution_count": 50,
   "metadata": {
    "collapsed": false
   },
   "outputs": [
    {
     "name": "stdout",
     "output_type": "stream",
     "text": [
      "(?, ?, ?, 48)\n",
      "(?, ?, ?, 64)\n",
      "(?, ?, ?, 128)\n",
      "\n",
      "Tensor(\"Placeholder_18:0\", shape=(?, ?, ?), dtype=float32) \n",
      "(?, ?, ?, 128) \n",
      "[<tensorflow.python.ops.variables.Variable object at 0x7fa3117e5790>, <tensorflow.python.ops.variables.Variable object at 0x7fa311787190>, <tensorflow.python.ops.variables.Variable object at 0x7fa311648410>, <tensorflow.python.ops.variables.Variable object at 0x7fa311486950>, <tensorflow.python.ops.variables.Variable object at 0x7fa311434950>, <tensorflow.python.ops.variables.Variable object at 0x7fa3114452d0>]\n",
      "\n",
      "(?, 32, 64, 48)\n",
      "(?, 16, 32, 64)\n",
      "(?, 8, 16, 128)\n"
     ]
    }
   ],
   "source": [
    "x, out, para = convolutional_layer()\n",
    "print '\\n', x, '\\n', out.get_shape(), '\\n', para\n",
    "print\n",
    "x, out, para = convolutional_layer(64,128)"
   ]
  },
  {
   "cell_type": "code",
   "execution_count": null,
   "metadata": {
    "collapsed": true
   },
   "outputs": [],
   "source": [
    " "
   ]
  }
 ],
 "metadata": {
  "kernelspec": {
   "display_name": "Python 2",
   "language": "python",
   "name": "python2"
  },
  "language_info": {
   "codemirror_mode": {
    "name": "ipython",
    "version": 2
   },
   "file_extension": ".py",
   "mimetype": "text/x-python",
   "name": "python",
   "nbconvert_exporter": "python",
   "pygments_lexer": "ipython2",
   "version": "2.7.11"
  }
 },
 "nbformat": 4,
 "nbformat_minor": 0
}
