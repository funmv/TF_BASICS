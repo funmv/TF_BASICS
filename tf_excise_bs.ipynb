{
 "cells": [
  {
   "cell_type": "markdown",
   "metadata": {},
   "source": [
    "### Tensorflow 기본 연산  \n",
    "(작성) by funmv  \n",
    "(내용) tensorflow의 basic 연산에 대해 설명  "
   ]
  },
  {
   "cell_type": "code",
   "execution_count": 1,
   "metadata": {
    "collapsed": true
   },
   "outputs": [],
   "source": [
    "import tensorflow as tf     #tensorflow 사용을 위해 import"
   ]
  },
  {
   "cell_type": "markdown",
   "metadata": {},
   "source": [
    "배열 타입( [[..]] )의 상수(constant)를 만든다. list와 헛갈릴수 있다.   \n",
    "get_shape()은 변수의 tensor shape을 얻는다.  "
   ]
  },
  {
   "cell_type": "code",
   "execution_count": 2,
   "metadata": {
    "collapsed": false
   },
   "outputs": [],
   "source": [
    "m1 = tf.constant([[1., 2.]])\n",
    "m2 = tf.constant([[3.],[4.]])"
   ]
  },
  {
   "cell_type": "code",
   "execution_count": 3,
   "metadata": {
    "collapsed": false
   },
   "outputs": [
    {
     "name": "stdout",
     "output_type": "stream",
     "text": [
      "(1, 2) (2, 1)\n"
     ]
    }
   ],
   "source": [
    "print m1.get_shape(), m2.get_shape()"
   ]
  },
  {
   "cell_type": "markdown",
   "metadata": {},
   "source": [
    "배열 곱 연산을 해주는 \"노드\"를 만든다.   \n",
    "즉, 그래프의 node는 연산, 여기로 들어오는 data(tensor)는 그래프의 edge이다.   "
   ]
  },
  {
   "cell_type": "code",
   "execution_count": 4,
   "metadata": {
    "collapsed": false
   },
   "outputs": [
    {
     "name": "stdout",
     "output_type": "stream",
     "text": [
      "(1, 1)\n"
     ]
    }
   ],
   "source": [
    "m3 = tf.matmul(m1,m2)\n",
    "print m3.get_shape()"
   ]
  },
  {
   "cell_type": "markdown",
   "metadata": {},
   "source": [
    "### Run by session\n",
    "그래프를 만든다고 해서 실제 연산이 수행되는 것은 아니다.  \n",
    "실제 연산은 session에서 이루어 진다  "
   ]
  },
  {
   "cell_type": "code",
   "execution_count": 5,
   "metadata": {
    "collapsed": false
   },
   "outputs": [
    {
     "name": "stdout",
     "output_type": "stream",
     "text": [
      "[[ 11.]]\n"
     ]
    }
   ],
   "source": [
    "with tf.Session() as sess:\n",
    "    result = sess.run(m3)\n",
    "    print result"
   ]
  },
  {
   "cell_type": "markdown",
   "metadata": {},
   "source": [
    "session은 다른 방법으로도 정의가 가능하다"
   ]
  },
  {
   "cell_type": "code",
   "execution_count": 6,
   "metadata": {
    "collapsed": false
   },
   "outputs": [
    {
     "name": "stdout",
     "output_type": "stream",
     "text": [
      "[[ 11.]]\n"
     ]
    }
   ],
   "source": [
    "sess = tf.Session()\n",
    "print sess.run(m3)\n",
    "sess.close()"
   ]
  },
  {
   "cell_type": "markdown",
   "metadata": {},
   "source": [
    "### [Example] Counter design\n",
    "간단한 예제로 변수를 선언해서 1씩 더해주는 카운터를 만들어 본다"
   ]
  },
  {
   "cell_type": "code",
   "execution_count": 10,
   "metadata": {
    "collapsed": false
   },
   "outputs": [],
   "source": [
    "state = tf.Variable(0., name='counter')       #counter라는 이름을 가진 변수 state를 정의한다(초기값 0)\n",
    "one = tf.constant(1.)\n",
    "new_value = tf.add(state, one)\n",
    "update = tf.assign(state, new_value)"
   ]
  },
  {
   "cell_type": "code",
   "execution_count": 11,
   "metadata": {
    "collapsed": false
   },
   "outputs": [
    {
     "name": "stdout",
     "output_type": "stream",
     "text": [
      "Tensor(\"counter_1/read:0\", shape=(), dtype=float32) ()\n"
     ]
    }
   ],
   "source": [
    "print state.value(), one.get_shape()          #value()는 변수의 마지막 값(last snapshot) 출력"
   ]
  },
  {
   "cell_type": "code",
   "execution_count": 12,
   "metadata": {
    "collapsed": false
   },
   "outputs": [
    {
     "name": "stdout",
     "output_type": "stream",
     "text": [
      "1.0\n",
      "2.0\n",
      "3.0\n",
      "4.0\n"
     ]
    }
   ],
   "source": [
    "with tf.Session() as sess:                    #Session을 연다\n",
    "    sess.run(tf.initialize_all_variables())   #모든 변수의 초기화\n",
    "    print sess.run(update)\n",
    "    for _ in range(3):                        #연산은 3번 반복\n",
    "        sess.run(new_value)                   #그래프 실행\n",
    "        print sess.run(update)"
   ]
  },
  {
   "cell_type": "markdown",
   "metadata": {},
   "source": [
    "### Fetches (연산 동안 값 변화를 체크)\n",
    "Session 연산동안 값을 가져올 때 sess.run(a1)처럼 변수를 인자로 넘겨준다.   \n",
    "여러 개의 값을 한번에 가져올 때는 sess.run([a1,a2,...])처럼 변수의 list를 넘겨줌.   "
   ]
  },
  {
   "cell_type": "code",
   "execution_count": 13,
   "metadata": {
    "collapsed": false
   },
   "outputs": [
    {
     "name": "stdout",
     "output_type": "stream",
     "text": [
      "[1.0, 1.0]\n",
      "[2.0, 2.0]\n",
      "[3.0, 3.0]\n"
     ]
    }
   ],
   "source": [
    "with tf.Session() as sess:\n",
    "    sess.run(tf.initialize_all_variables())\n",
    "    for _ in range(3):\n",
    "        print sess.run([new_value, update])\n"
   ]
  },
  {
   "cell_type": "markdown",
   "metadata": {},
   "source": [
    "### Feeds (Session 연산 실행 중에 값을 넘겨 줌)\n",
    "Session 시작 전에 placeholder로 미리 수용 공간만 마련해 두고, 실행 중에 값을 feed_dict를 사용하여 data 공급"
   ]
  },
  {
   "cell_type": "code",
   "execution_count": 14,
   "metadata": {
    "collapsed": false
   },
   "outputs": [
    {
     "name": "stdout",
     "output_type": "stream",
     "text": [
      "[ 2.]\n",
      "[ 4.]\n"
     ]
    }
   ],
   "source": [
    "input1 = tf.placeholder(tf.float32, [None])       #수용 공간 마련. data수는 미정, 타입은 32bit 실수\n",
    "one = tf.constant(1.)\n",
    "output = tf.mul(input1, one)                      #두 개의 실수 tensor를 받아들여 곱 연산을 하는 노드 정의\n",
    "\n",
    "with tf.Session() as sess:\n",
    "    sess.run(tf.initialize_all_tables())\n",
    "    print sess.run(output, feed_dict={input1: [2.] })   #실행 중에 실수 2.0을 제공\n",
    "    \n",
    "    \n",
    "input2 = tf.placeholder(tf.float32, [None])    \n",
    "output = tf.mul(input1, input2)                 \n",
    "\n",
    "with tf.Session() as sess:\n",
    "    sess.run(tf.initialize_all_tables())\n",
    "    print sess.run(output, feed_dict={input1: [2.], input2:[2.]})  #실행 중에 2개의 실수 값을 공급\n",
    "    \n"
   ]
  }
 ],
 "metadata": {
  "kernelspec": {
   "display_name": "Python 2",
   "language": "python",
   "name": "python2"
  },
  "language_info": {
   "codemirror_mode": {
    "name": "ipython",
    "version": 2
   },
   "file_extension": ".py",
   "mimetype": "text/x-python",
   "name": "python",
   "nbconvert_exporter": "python",
   "pygments_lexer": "ipython2",
   "version": "2.7.12"
  }
 },
 "nbformat": 4,
 "nbformat_minor": 0
}
